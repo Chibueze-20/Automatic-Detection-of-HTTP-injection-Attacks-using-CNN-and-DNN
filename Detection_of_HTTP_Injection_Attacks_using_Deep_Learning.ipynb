{
  "nbformat": 4,
  "nbformat_minor": 0,
  "metadata": {
    "colab": {
      "name": "Detection of HTTP Injection Attacks using Deep Learning.ipynb",
      "provenance": [],
      "collapsed_sections": [
        "VPWOvbaoPx3v"
      ],
      "machine_shape": "hm",
      "include_colab_link": true
    },
    "kernelspec": {
      "name": "python3",
      "display_name": "Python 3"
    },
    "accelerator": "GPU"
  },
  "cells": [
    {
      "cell_type": "markdown",
      "metadata": {
        "id": "view-in-github",
        "colab_type": "text"
      },
      "source": [
        "<a href=\"https://colab.research.google.com/github/Chibueze-20/Automatic-Detection-of-HTTP-injection-Attacks-using-CNN-and-DNN/blob/main/Detection_of_HTTP_Injection_Attacks_using_Deep_Learning.ipynb\" target=\"_parent\"><img src=\"https://colab.research.google.com/assets/colab-badge.svg\" alt=\"Open In Colab\"/></a>"
      ]
    },
    {
      "cell_type": "markdown",
      "metadata": {
        "id": "RHngtSs2MM36"
      },
      "source": [
        "# Charcter level CNN and DNN on CISC 2010 and ECML/PKDD 2007"
      ]
    },
    {
      "cell_type": "code",
      "metadata": {
        "id": "U2niAo3KCM4h",
        "colab": {
          "base_uri": "https://localhost:8080/",
          "height": 123
        },
        "outputId": "0d8f502b-04d6-42f7-f1be-023ccc8e54e2"
      },
      "source": [
        "from google.colab import drive\n",
        "drive.mount('/content/drive')"
      ],
      "execution_count": null,
      "outputs": [
        {
          "output_type": "stream",
          "text": [
            "Go to this URL in a browser: https://accounts.google.com/o/oauth2/auth?client_id=947318989803-6bn6qk8qdgf4n4g3pfee6491hc0brc4i.apps.googleusercontent.com&redirect_uri=urn%3aietf%3awg%3aoauth%3a2.0%3aoob&response_type=code&scope=email%20https%3a%2f%2fwww.googleapis.com%2fauth%2fdocs.test%20https%3a%2f%2fwww.googleapis.com%2fauth%2fdrive%20https%3a%2f%2fwww.googleapis.com%2fauth%2fdrive.photos.readonly%20https%3a%2f%2fwww.googleapis.com%2fauth%2fpeopleapi.readonly\n",
            "\n",
            "Enter your authorization code:\n",
            "··········\n",
            "Mounted at /content/drive\n"
          ],
          "name": "stdout"
        }
      ]
    },
    {
      "cell_type": "code",
      "metadata": {
        "id": "aE9AS8aP7PH8"
      },
      "source": [
        "import numpy as np\n",
        "import pandas as pd\n",
        "from sklearn.model_selection import train_test_split\n",
        "import keras.losses as lossx\n",
        "from keras.layers import (Activation, Conv1D, Dense, Dropout, Embedding,\n",
        "                          Flatten, Input, MaxPooling1D)\n",
        "from keras.models import Model, Sequential,load_model\n",
        "from keras.preprocessing.sequence import pad_sequences\n",
        "from keras.preprocessing.text import Tokenizer\n",
        "from keras.utils import to_categorical\n",
        "from keras.utils.vis_utils import plot_model\n",
        "import sklearn.metrics as met"
      ],
      "execution_count": null,
      "outputs": []
    },
    {
      "cell_type": "markdown",
      "metadata": {
        "id": "R9MLdd1s1MMU"
      },
      "source": [
        "##Define the helper functions"
      ]
    },
    {
      "cell_type": "markdown",
      "metadata": {
        "id": "VCMyRhOHzFoM"
      },
      "source": [
        "###Extract dataset into pandas dataframe"
      ]
    },
    {
      "cell_type": "code",
      "metadata": {
        "id": "oHnsGUPfzCTb"
      },
      "source": [
        "def ExtractDataframe(csvdataset_path):\n",
        "    return pd.read_csv(csvdataset_path)"
      ],
      "execution_count": null,
      "outputs": []
    },
    {
      "cell_type": "markdown",
      "metadata": {
        "id": "PAdB0UYIzhdT"
      },
      "source": [
        "###Build the tokenizer"
      ]
    },
    {
      "cell_type": "code",
      "metadata": {
        "id": "kJw80QtMzr4T"
      },
      "source": [
        "def BuildTokenizer(vocabulary,sequence):\n",
        "    char_dictionary={}\n",
        "    for index, char in enumerate(vocabulary):\n",
        "        char_dictionary[char] = index + 1\n",
        "    tokenizer = Tokenizer(num_words=None,char_level=True,oov_token='UNK',lower=False)\n",
        "    tokenizer.fit_on_texts(sequence)\n",
        "    tokenizer.word_index=char_dictionary\n",
        "    tokenizer.word_index[tokenizer.oov_token]= len(char_dictionary.values())+1\n",
        "    return tokenizer"
      ],
      "execution_count": null,
      "outputs": []
    },
    {
      "cell_type": "markdown",
      "metadata": {
        "id": "TKpUvXkOzvv1"
      },
      "source": [
        "###Get the maximum length of a http query or body"
      ]
    },
    {
      "cell_type": "code",
      "metadata": {
        "id": "GZuyd9bzz9HN"
      },
      "source": [
        "def MaxRequestLength(requests):\n",
        "    max_length = 0\n",
        "    for request in requests:\n",
        "        if max_length<len(request):\n",
        "            max_length = len(request)\n",
        "    return max_length"
      ],
      "execution_count": null,
      "outputs": []
    },
    {
      "cell_type": "markdown",
      "metadata": {
        "id": "SVICCB8u0AtD"
      },
      "source": [
        "###Preprocessing and dataset splitting"
      ]
    },
    {
      "cell_type": "code",
      "metadata": {
        "id": "sQesCykS0L_g"
      },
      "source": [
        "def PreprocessAndSplit(dataframe,vocabulary,test_split=0):\n",
        "    requests = dataframe['Parameters'].values\n",
        "    labels = dataframe['Label'].values\n",
        "    tokenizer=BuildTokenizer(vocabulary,requests)\n",
        "    character_indexes = tokenizer.texts_to_sequences(requests)\n",
        "    max_length = 840\n",
        "    data = pad_sequences(character_indexes,maxlen=max_length,padding='post')\n",
        "    targets = to_categorical(labels,num_classes=2)\n",
        "    if test_split==0:\n",
        "        return [tokenizer,max_length,len(tokenizer.word_index),data,targets]\n",
        "    else:\n",
        "        X_train,X_test,Y_train,Y_test = train_test_split(data,targets,test_size=test_split)\n",
        "        return [tokenizer,max_length,len(tokenizer.word_index),X_train,X_test,Y_train,Y_test]"
      ],
      "execution_count": null,
      "outputs": []
    },
    {
      "cell_type": "markdown",
      "metadata": {
        "id": "OQHhcjCE0P_1"
      },
      "source": [
        "###Build the CNN model"
      ]
    },
    {
      "cell_type": "code",
      "metadata": {
        "id": "lW7U5fDY0Uco"
      },
      "source": [
        "def BuildCNN(embeddingSize,inputSize,conv_layers,fully_connected_layers,num_classes,dropout_p,optimizer,loss):\n",
        "    #model definition\n",
        "    #embedding layer definition\n",
        "    Embedding_layer = Embedding(embeddingSize+1,embeddingSize,input_length=inputSize)\n",
        "    #input layer\n",
        "    inputs = Input(shape=(inputSize,), name='input', dtype='int64')\n",
        "    #embedding layer\n",
        "    model = Embedding_layer(inputs)\n",
        "    #Conv layers\n",
        "    for filter_num, filter_size, pooling_size in conv_layers:\n",
        "        model = Conv1D(filter_num,filter_size)(model)\n",
        "        model = Activation('relu')(model)\n",
        "        if pooling_size !=-1:\n",
        "            model=MaxPooling1D(pool_size=pooling_size)(model)\n",
        "    #flatten layer\n",
        "    model = Flatten()(model)\n",
        "    #Fullly connected layers\n",
        "    for dense_size in fully_connected_layers:\n",
        "        model = Dense(dense_size,activation='relu')(model)\n",
        "        model = Dropout(dropout_p)(model)\n",
        "    #output layer\n",
        "    predictions = Dense(num_classes,activation='softmax')(model)\n",
        "    #model\n",
        "    CNNmodel = Model(inputs=inputs, outputs=predictions)\n",
        "    CNNmodel.compile(optimizer=optimizer,loss=loss,metrics=['accuracy'])\n",
        "    return CNNmodel"
      ],
      "execution_count": null,
      "outputs": []
    },
    {
      "cell_type": "markdown",
      "metadata": {
        "id": "ecRiCO3U0VQ5"
      },
      "source": [
        "###Build the DNN model"
      ]
    },
    {
      "cell_type": "code",
      "metadata": {
        "id": "SeN_afDP0gKe"
      },
      "source": [
        "def BuildDNN(embeddingSize,inputSize,fully_connected_layers,num_classes,optimizer,loss):\n",
        "    #model definition\n",
        "    DNNmodel = Sequential()\n",
        "    #embedding layer definition\n",
        "    DNNmodel.add(Embedding(embeddingSize+1,embeddingSize,input_length=inputSize))\n",
        "    #flatten layer\n",
        "    DNNmodel.add(Flatten())\n",
        "    for nodes in fully_connected_layers:\n",
        "        DNNmodel.add(Dense(nodes,activation='relu'))\n",
        "        DNNmodel.add(Dropout(0.5))\n",
        "    #output layer\n",
        "    DNNmodel.add(Dense(num_classes,activation='softmax'))\n",
        "    #model\n",
        "    DNNmodel.compile(optimizer=optimizer,loss=loss,metrics=['accuracy'])\n",
        "    return DNNmodel"
      ],
      "execution_count": null,
      "outputs": []
    },
    {
      "cell_type": "markdown",
      "metadata": {
        "id": "Bp3_546XLRSO"
      },
      "source": [
        "###Evaluate the model"
      ]
    },
    {
      "cell_type": "code",
      "metadata": {
        "id": "VaPFW5orEiPB"
      },
      "source": [
        "def printEvaluation(model,X,Y):\n",
        "  y_pred = model.predict(X)\n",
        "  y_test = Y\n",
        "  print(met.f1_score(np.argmax(y_test,1), np.argmax(y_pred,1)))\n",
        "  print(met.confusion_matrix(np.argmax(y_test,1), np.argmax(y_pred,1)))\n",
        "  print(met.classification_report(np.argmax(y_test,1), np.argmax(y_pred,1)))"
      ],
      "execution_count": null,
      "outputs": []
    },
    {
      "cell_type": "markdown",
      "metadata": {
        "id": "RfzXkUz50v1Q"
      },
      "source": [
        "##Get dataset, preproces and build the DNN and CNN models (CISIC)"
      ]
    },
    {
      "cell_type": "markdown",
      "metadata": {
        "id": "kwh8FfPN5Ngo"
      },
      "source": [
        "###extract"
      ]
    },
    {
      "cell_type": "code",
      "metadata": {
        "id": "1nmLkqRz0_Ru"
      },
      "source": [
        "#train_df = ExtractDataframe('/content/drive/My Drive/Dataset/dataset.csv')\n",
        "#train_df = train_df.loc[:,['Parameters','Label']]\n",
        "train1 = ExtractDataframe('/content/drive/My Drive/Dataset/CSIC_dataset_train.csv')\n",
        "train2 = ExtractDataframe('/content/drive/My Drive/Dataset/CSIC_dataset_test_malicious.csv')\n",
        "train_df = train1.append(train2)\n",
        "train_df = train_df.loc[:,['Parameters','Label']]\n",
        "#suffle data\n",
        "train_df = train_df.sample(frac=1).reset_index(drop=True)"
      ],
      "execution_count": null,
      "outputs": []
    },
    {
      "cell_type": "markdown",
      "metadata": {
        "id": "z-7I36JG5RK7"
      },
      "source": [
        "###Preprocess and split"
      ]
    },
    {
      "cell_type": "code",
      "metadata": {
        "id": "QSEpRTSX5Vy8",
        "colab": {
          "base_uri": "https://localhost:8080/",
          "height": 527
        },
        "outputId": "1686b611-f6d7-4aea-c415-3dea93f64148"
      },
      "source": [
        "data = PreprocessAndSplit(train_df,\"abcdefghijklmnopqrstuvwxyzABCDEFGHIJKLMNOPQRSTUVWXYZ0123456789-,;.!?:'\\\"/\\\\|_@#$%^&*~`+-=<>()[]{} \",0.3)\n",
        "print(\"Max query length:\",data[1])\n",
        "print(\"Vocabulary Size:\",data[2])\n",
        "# print(data[3],data[5],data[4],data[6],sep='\\n')"
      ],
      "execution_count": null,
      "outputs": [
        {
          "output_type": "stream",
          "text": [
            "Max query lenght: 840\n",
            "Vocabulary Size: 96\n",
            "[[28 55 87 ...  0  0  0]\n",
            " [28 55 87 ...  0  0  0]\n",
            " [ 5 18 18 ...  0  0  0]\n",
            " ...\n",
            " [13 15  4 ...  0  0  0]\n",
            " [13 15  4 ...  0  0  0]\n",
            " [13 15  4 ...  0  0  0]]\n",
            "[[1. 0.]\n",
            " [1. 0.]\n",
            " [0. 1.]\n",
            " ...\n",
            " [1. 0.]\n",
            " [0. 1.]\n",
            " [0. 1.]]\n",
            "[[13 15  4 ...  0  0  0]\n",
            " [ 9  4 87 ...  0  0  0]\n",
            " [ 9  4 87 ...  0  0  0]\n",
            " ...\n",
            " [13 15  4 ...  0  0  0]\n",
            " [13 15  4 ...  0  0  0]\n",
            " [ 9  4 27 ...  0  0  0]]\n",
            "[[1. 0.]\n",
            " [1. 0.]\n",
            " [0. 1.]\n",
            " ...\n",
            " [0. 1.]\n",
            " [1. 0.]\n",
            " [0. 1.]]\n"
          ],
          "name": "stdout"
        }
      ]
    },
    {
      "cell_type": "markdown",
      "metadata": {
        "id": "GtqwgqkP8Faq"
      },
      "source": [
        "###Create CNN Model "
      ]
    },
    {
      "cell_type": "code",
      "metadata": {
        "id": "xlPZ6Vcr8LwB"
      },
      "source": [
        "CnnModel = BuildCNN(data[2],data[1],[[256, 7, 3],[256, 7, 3],[256, 3, -1],[256, 3, -1],[256, 3, -1], \n",
        "               [256, 3, 3]],[1024,1024],2,0.5,'adam','categorical_crossentropy')\n",
        "CnnModel.summary()"
      ],
      "execution_count": null,
      "outputs": []
    },
    {
      "cell_type": "markdown",
      "metadata": {
        "id": "tThtzAd393na"
      },
      "source": [
        "###Build DNN model"
      ]
    },
    {
      "cell_type": "code",
      "metadata": {
        "id": "5-WuFbip97ck"
      },
      "source": [
        "DNNmodel = BuildDNN(data[2],data[1],[1024,1024,1024],2,'sgd','categorical_crossentropy')\n",
        "DNNmodel.summary()"
      ],
      "execution_count": null,
      "outputs": []
    },
    {
      "cell_type": "markdown",
      "metadata": {
        "id": "IRT5-JOw-5To"
      },
      "source": [
        "###Train DNN and CNN model"
      ]
    },
    {
      "cell_type": "markdown",
      "metadata": {
        "id": "GS2dLVfz_GVy"
      },
      "source": [
        "####Train CNN model"
      ]
    },
    {
      "cell_type": "code",
      "metadata": {
        "id": "16Lr4EFS--BV",
        "colab": {
          "base_uri": "https://localhost:8080/",
          "height": 154
        },
        "outputId": "5f1e65eb-506a-4608-9216-3f45f293b45f"
      },
      "source": [
        "CnnModel.fit(data[3],data[5],batch_size=128,validation_data=(data[4],data[6]))"
      ],
      "execution_count": null,
      "outputs": [
        {
          "output_type": "stream",
          "text": [
            "WARNING:tensorflow:From /usr/local/lib/python3.6/dist-packages/tensorflow_core/python/ops/math_grad.py:1424: where (from tensorflow.python.ops.array_ops) is deprecated and will be removed in a future version.\n",
            "Instructions for updating:\n",
            "Use tf.where in 2.0, which has the same broadcast rule as np.where\n",
            "Train on 24910 samples, validate on 10676 samples\n",
            "Epoch 1/1\n",
            "24910/24910 [==============================] - 47s 2ms/step - loss: 0.3134 - acc: 0.8365 - val_loss: 0.1175 - val_acc: 0.9642\n"
          ],
          "name": "stdout"
        },
        {
          "output_type": "execute_result",
          "data": {
            "text/plain": [
              "<keras.callbacks.History at 0x7fc1c76b3278>"
            ]
          },
          "metadata": {
            "tags": []
          },
          "execution_count": 28
        }
      ]
    },
    {
      "cell_type": "markdown",
      "metadata": {
        "id": "gEnb53RlGRAy"
      },
      "source": [
        "####Train DNN"
      ]
    },
    {
      "cell_type": "code",
      "metadata": {
        "id": "eLfgeM3hGUoX"
      },
      "source": [
        "DNNmodel.fit(data[3],data[5],batch_size=128,epochs=10,validation_data=(data[4],data[6]))"
      ],
      "execution_count": null,
      "outputs": []
    },
    {
      "cell_type": "markdown",
      "source": [
        "Load Model (For saved models only)"
      ],
      "metadata": {
        "id": "UGEsPja24RMk"
      }
    },
    {
      "cell_type": "code",
      "metadata": {
        "id": "zGoK2ybpz3It",
        "colab": {
          "base_uri": "https://localhost:8080/",
          "height": 54
        },
        "outputId": "060c0724-8b34-4f7e-ab6f-390361b1fe28"
      },
      "source": [
        "CnnModel = load_model('/content/drive/My Drive/Dataset/cisccnnkeras.h5')\n",
        "DNNmodel = load_model('/content/drive/My Drive/Dataset/ciscdnnkeras.h5')"
      ],
      "execution_count": null,
      "outputs": [
        {
          "output_type": "stream",
          "text": [
            "WARNING:tensorflow:Error in loading the saved optimizer state. As a result, your model is starting with a freshly initialized optimizer.\n"
          ],
          "name": "stdout"
        }
      ]
    },
    {
      "cell_type": "markdown",
      "metadata": {
        "id": "VPWOvbaoPx3v"
      },
      "source": [
        "###Evaluate DNN and CNN\n",
        "\n",
        "\n"
      ]
    },
    {
      "cell_type": "code",
      "metadata": {
        "id": "226rElr8EUn6",
        "colab": {
          "base_uri": "https://localhost:8080/",
          "height": 459
        },
        "outputId": "2bf1287e-856d-44e8-fba6-23b033496aed"
      },
      "source": [
        "print(\"CNN\")\n",
        "printEvaluation(CnnModel,data[4],data[6])\n",
        "print(\"DNN\")\n",
        "printEvaluation(DNNmodel,data[4],data[6])\n",
        "# DNNmodel.evaluate(data[4],data[6])"
      ],
      "execution_count": null,
      "outputs": [
        {
          "output_type": "stream",
          "text": [
            "CNN\n",
            "0.966796032772747\n",
            "[[4686   96]\n",
            " [ 289 5605]]\n",
            "              precision    recall  f1-score   support\n",
            "\n",
            "           0       0.94      0.98      0.96      4782\n",
            "           1       0.98      0.95      0.97      5894\n",
            "\n",
            "    accuracy                           0.96     10676\n",
            "   macro avg       0.96      0.97      0.96     10676\n",
            "weighted avg       0.96      0.96      0.96     10676\n",
            "\n",
            "DNN\n",
            "0.8655397944449165\n",
            "[[3998  784]\n",
            " [ 799 5095]]\n",
            "              precision    recall  f1-score   support\n",
            "\n",
            "           0       0.83      0.84      0.83      4782\n",
            "           1       0.87      0.86      0.87      5894\n",
            "\n",
            "    accuracy                           0.85     10676\n",
            "   macro avg       0.85      0.85      0.85     10676\n",
            "weighted avg       0.85      0.85      0.85     10676\n",
            "\n"
          ],
          "name": "stdout"
        }
      ]
    },
    {
      "cell_type": "markdown",
      "metadata": {
        "id": "8JwvdaDHQIsN"
      },
      "source": [
        "####Test on benign"
      ]
    },
    {
      "cell_type": "code",
      "metadata": {
        "id": "6nc6oT96TCFE",
        "colab": {
          "base_uri": "https://localhost:8080/",
          "height": 513
        },
        "outputId": "ca5f8cb1-da1b-4993-d5e5-d7848a670331"
      },
      "source": [
        "test_df = ExtractDataframe('/content/drive/My Drive/Dataset/CSIC_dataset_test_benign.csv')\n",
        "test_df = test_df.loc[:,['Parameters','Label']]\n",
        "datax1 = PreprocessAndSplit(test_df,\"abcdefghijklmnopqrstuvwxyzABCDEFGHIJKLMNOPQRSTUVWXYZ0123456789-,;.!?:'\\\"/\\\\|_@#$%^&*~`+-=<>()[]{} \")\n",
        "print(\"CNN\")\n",
        "printEvaluation(CnnModel,datax1[3],datax1[4])\n",
        "print(\"DNN\")\n",
        "printEvaluation(DNNmodel,datax1[3],datax1[4])\n",
        "# CnnModel.evaluate(datax1[3],datax1[4])"
      ],
      "execution_count": null,
      "outputs": [
        {
          "output_type": "stream",
          "text": [
            "CNN\n",
            "0.0\n",
            "[[15594   406]\n",
            " [    0     0]]\n",
            "              precision    recall  f1-score   support\n",
            "\n",
            "           0       1.00      0.97      0.99     16000\n",
            "           1       0.00      0.00      0.00         0\n",
            "\n",
            "    accuracy                           0.97     16000\n",
            "   macro avg       0.50      0.49      0.49     16000\n",
            "weighted avg       1.00      0.97      0.99     16000\n",
            "\n",
            "DNN\n"
          ],
          "name": "stdout"
        },
        {
          "output_type": "stream",
          "text": [
            "/usr/local/lib/python3.6/dist-packages/sklearn/metrics/_classification.py:1272: UndefinedMetricWarning: Recall and F-score are ill-defined and being set to 0.0 in labels with no true samples. Use `zero_division` parameter to control this behavior.\n",
            "  _warn_prf(average, modifier, msg_start, len(result))\n"
          ],
          "name": "stderr"
        },
        {
          "output_type": "stream",
          "text": [
            "0.0\n",
            "[[13026  2974]\n",
            " [    0     0]]\n",
            "              precision    recall  f1-score   support\n",
            "\n",
            "           0       1.00      0.81      0.90     16000\n",
            "           1       0.00      0.00      0.00         0\n",
            "\n",
            "    accuracy                           0.81     16000\n",
            "   macro avg       0.50      0.41      0.45     16000\n",
            "weighted avg       1.00      0.81      0.90     16000\n",
            "\n"
          ],
          "name": "stdout"
        }
      ]
    },
    {
      "cell_type": "markdown",
      "metadata": {
        "id": "wYPI7BDwQNi-"
      },
      "source": [
        "####Test on malicious"
      ]
    },
    {
      "cell_type": "code",
      "metadata": {
        "id": "Vx_liVToQRY6",
        "colab": {
          "base_uri": "https://localhost:8080/",
          "height": 513
        },
        "outputId": "972afed1-0a80-4317-d5b0-b7f39cf6fe99"
      },
      "source": [
        "text_df = ExtractDataframe('/content/drive/My Drive/Dataset/CSIC_dataset_test_malicious.csv')\n",
        "text_df = text_df.loc[:,['Parameters','Label']]\n",
        "datat=PreprocessAndSplit(text_df,\"abcdefghijklmnopqrstuvwxyzABCDEFGHIJKLMNOPQRSTUVWXYZ0123456789-,;.!?:'\\\"/\\\\|_@#$%^&*~`+-=<>()[]{} \")\n",
        "# printEvaluation(DNNmodel,datat[3],datat[4])\n",
        "print(\"CNN\")\n",
        "printEvaluation(CnnModel,datat[3],datat[4])\n",
        "print(\"DNN\")\n",
        "printEvaluation(DNNmodel,datat[3],datat[4])\n",
        "# DNNmodel.evaluate(datat[3],datat[4])"
      ],
      "execution_count": null,
      "outputs": [
        {
          "output_type": "stream",
          "text": [
            "CNN\n",
            "0.9770721261816473\n",
            "[[    0     0]\n",
            " [  878 18708]]\n",
            "              precision    recall  f1-score   support\n",
            "\n",
            "           0       0.00      0.00      0.00         0\n",
            "           1       1.00      0.96      0.98     19586\n",
            "\n",
            "    accuracy                           0.96     19586\n",
            "   macro avg       0.50      0.48      0.49     19586\n",
            "weighted avg       1.00      0.96      0.98     19586\n",
            "\n",
            "DNN\n"
          ],
          "name": "stdout"
        },
        {
          "output_type": "stream",
          "text": [
            "/usr/local/lib/python3.6/dist-packages/sklearn/metrics/_classification.py:1272: UndefinedMetricWarning: Recall and F-score are ill-defined and being set to 0.0 in labels with no true samples. Use `zero_division` parameter to control this behavior.\n",
            "  _warn_prf(average, modifier, msg_start, len(result))\n"
          ],
          "name": "stderr"
        },
        {
          "output_type": "stream",
          "text": [
            "0.9276758828360252\n",
            "[[    0     0]\n",
            " [ 2642 16944]]\n",
            "              precision    recall  f1-score   support\n",
            "\n",
            "           0       0.00      0.00      0.00         0\n",
            "           1       1.00      0.87      0.93     19586\n",
            "\n",
            "    accuracy                           0.87     19586\n",
            "   macro avg       0.50      0.43      0.46     19586\n",
            "weighted avg       1.00      0.87      0.93     19586\n",
            "\n"
          ],
          "name": "stdout"
        }
      ]
    },
    {
      "cell_type": "markdown",
      "metadata": {
        "id": "iYbERg5tWWBF"
      },
      "source": [
        "#### test on EMCL/PKDD"
      ]
    },
    {
      "cell_type": "code",
      "metadata": {
        "id": "UQvKaccYWZp6",
        "colab": {
          "base_uri": "https://localhost:8080/",
          "height": 483
        },
        "outputId": "e13d3002-2d3d-47ce-8651-956239ef4e1d"
      },
      "source": [
        "tert_df = ExtractDataframe('/content/drive/My Drive/Dataset/dataset.csv')\n",
        "tert_df= tert_df.loc[:,['Parameters','Label']]\n",
        "data_tr=PreprocessAndSplit(tert_df,\"abcdefghijklmnopqrstuvwxyzABCDEFGHIJKLMNOPQRSTUVWXYZ0123456789-,;.!?:'\\\"/\\\\|_@#$%^&*~`+-=<>()[]{} \")\n",
        "# printEvaluation(CnnModel,data_tr[3],data_tr[5])\n",
        "# CnnModel.evaluate(data_tr[3],data_tr[5])\n",
        "print(\"CNN\")\n",
        "printEvaluation(CnnModel,data_tr[3],data_tr[4])\n",
        "print(\"DNN\")\n",
        "printEvaluation(DNNmodel,data_tr[3],data_tr[4])"
      ],
      "execution_count": null,
      "outputs": [
        {
          "output_type": "stream",
          "text": [
            "CNN\n",
            "0.5165671373504563\n",
            "[[ 5978 22984]\n",
            " [ 1221 12932]]\n",
            "              precision    recall  f1-score   support\n",
            "\n",
            "           0       0.83      0.21      0.33     28962\n",
            "           1       0.36      0.91      0.52     14153\n",
            "\n",
            "    accuracy                           0.44     43115\n",
            "   macro avg       0.60      0.56      0.42     43115\n",
            "weighted avg       0.68      0.44      0.39     43115\n",
            "\n",
            "DNN\n",
            "0.49465937101200985\n",
            "[[   60 28902]\n",
            " [    5 14148]]\n",
            "              precision    recall  f1-score   support\n",
            "\n",
            "           0       0.92      0.00      0.00     28962\n",
            "           1       0.33      1.00      0.49     14153\n",
            "\n",
            "    accuracy                           0.33     43115\n",
            "   macro avg       0.63      0.50      0.25     43115\n",
            "weighted avg       0.73      0.33      0.17     43115\n",
            "\n"
          ],
          "name": "stdout"
        }
      ]
    },
    {
      "cell_type": "markdown",
      "metadata": {
        "id": "8OI3dfjGhBTL"
      },
      "source": [
        "##Get dataset, preprocess and build CNN and DNN models (EMCL/PKDD)"
      ]
    },
    {
      "cell_type": "markdown",
      "metadata": {
        "id": "xBiwyEM8hV-l"
      },
      "source": [
        "###Extract dataset and preprocess"
      ]
    },
    {
      "cell_type": "code",
      "metadata": {
        "id": "jwpul2SzhRkp",
        "colab": {
          "base_uri": "https://localhost:8080/",
          "height": 119
        },
        "outputId": "9b1e0054-a260-4667-d15f-759f0b1fd858"
      },
      "source": [
        "emctrain_df = ExtractDataframe('/content/drive/My Drive/Dataset/dataset.csv')\n",
        "emctrain_df= emctrain_df.loc[:,['Parameters','Label']]\n",
        "data_emc=PreprocessAndSplit(emctrain_df,\"abcdefghijklmnopqrstuvwxyzABCDEFGHIJKLMNOPQRSTUVWXYZ0123456789-,;.!?:'\\\"/\\\\|_@#$%^&*~`+-=<>()[]{} \",0.3)\n",
        "print(\"Max query lenght:\",data_emc[1])\n",
        "print(\"Vocabulary Size:\",data_emc[2])\n",
        "# print(data_emc[3].shape,data_emc[5].shape,data_emc[4].shape,data_emc[6].shape,sep='\\n')"
      ],
      "execution_count": null,
      "outputs": [
        {
          "output_type": "stream",
          "text": [
            "Max query lenght: 840\n",
            "Vocabulary Size: 96\n",
            "(30180, 840)\n",
            "(30180, 2)\n",
            "(12935, 840)\n",
            "(12935, 2)\n"
          ],
          "name": "stdout"
        }
      ]
    },
    {
      "cell_type": "code",
      "metadata": {
        "id": "LdW8drY67P5I",
        "colab": {
          "base_uri": "https://localhost:8080/",
          "height": 425
        },
        "outputId": "38f50569-0b0e-411d-a9e6-6831b7c4e22d"
      },
      "source": [
        "# BALANCE THE DATASET (add extra training/test data)\n",
        "payload_all = ExtractDataframe(\"/content/drive/My Drive/Dataset/all/PayloadsAllTheThings_github.csv\")\n",
        "payload_all = payload_all.drop(['index','Type'],axis=1)\n",
        "payload_all.columns = ['Parameters','label']\n",
        "payload_all.insert(1,'Label',1)\n",
        "payload_all = payload_all.drop(['label'],axis=1)\n",
        "bal_df = emctrain_df.append(payload_all)\n",
        "bal_df = bal_df.sample(frac=1).reset_index(drop=True)\n",
        "# bal_df=bal_df.astype({'Label':'int32'})\n",
        "data_emc=PreprocessAndSplit(bal_df,\"abcdefghijklmnopqrstuvwxyzABCDEFGHIJKLMNOPQRSTUVWXYZ0123456789-,;.!?:'\\\"/\\\\|_@#$%^&*~`+-=<>()[]{} \",0.3)\n",
        "print(\"Max query lenght:\",data_emc[1])\n",
        "print(\"Vocabulary Size:\",data_emc[2])\n",
        "# print(data_emc[3].shape,data_emc[5],data_emc[4],data_emc[6],sep='\\n')"
      ],
      "execution_count": null,
      "outputs": [
        {
          "output_type": "stream",
          "text": [
            "Max query lenght: 840\n",
            "Vocabulary Size: 96\n",
            "(40184, 840)\n",
            "[[1. 0.]\n",
            " [0. 1.]\n",
            " [0. 1.]\n",
            " ...\n",
            " [0. 1.]\n",
            " [1. 0.]\n",
            " [1. 0.]]\n",
            "[[31 20  5 ...  0  0  0]\n",
            " [21 25  9 ...  0  0  0]\n",
            " [ 6 46 18 ...  0  0  0]\n",
            " ...\n",
            " [27 10 38 ...  0  0  0]\n",
            " [29  3 13 ...  0  0  0]\n",
            " [19 61 13 ...  0  0  0]]\n",
            "[[0. 1.]\n",
            " [0. 1.]\n",
            " [1. 0.]\n",
            " ...\n",
            " [1. 0.]\n",
            " [0. 1.]\n",
            " [0. 1.]]\n"
          ],
          "name": "stdout"
        }
      ]
    },
    {
      "cell_type": "markdown",
      "metadata": {
        "id": "gj6-3A-YpS2i"
      },
      "source": [
        "###Create CNN Model "
      ]
    },
    {
      "cell_type": "code",
      "metadata": {
        "id": "BsC_xj-WpS3b"
      },
      "source": [
        "EmcCnnModel = BuildCNN(data_emc[2],data_emc[1],[[256, 7, 3],[256, 7, 3],[256, 3, -1],[256, 3, -1],[256, 3, -1], \n",
        "               [256, 3, 3]],[1024,1024],2,0.5,'adam','categorical_crossentropy')\n",
        "EmcCnnModel.summary()"
      ],
      "execution_count": null,
      "outputs": []
    },
    {
      "cell_type": "markdown",
      "metadata": {
        "id": "dlStQMLvpn4C"
      },
      "source": [
        "###Build DNN model"
      ]
    },
    {
      "cell_type": "code",
      "metadata": {
        "id": "2w1mhpUupn41"
      },
      "source": [
        "EmcDNNmodel = BuildDNN(data_emc[2],data_emc[1],[1024,1024,1024],2,'sgd','categorical_crossentropy')\n",
        "EmcDNNmodel.summary()"
      ],
      "execution_count": null,
      "outputs": []
    },
    {
      "cell_type": "markdown",
      "metadata": {
        "id": "PI1ap-VNpww4"
      },
      "source": [
        "###Train DNN and CNN model"
      ]
    },
    {
      "cell_type": "markdown",
      "metadata": {
        "id": "xLz-b4scpwxu"
      },
      "source": [
        "####Train CNN model"
      ]
    },
    {
      "cell_type": "code",
      "metadata": {
        "id": "okLEi0-0pwya",
        "colab": {
          "base_uri": "https://localhost:8080/",
          "height": 122
        },
        "outputId": "48dff3b2-6338-4fd6-a306-9b266088bd4a"
      },
      "source": [
        "EmcCnnModel.fit(data_emc[3],data_emc[5],epochs=2,batch_size=128,validation_data=(data_emc[4],data_emc[6]))"
      ],
      "execution_count": null,
      "outputs": [
        {
          "output_type": "stream",
          "text": [
            "Epoch 1/2\n",
            "314/314 [==============================] - 23s 75ms/step - loss: 0.1438 - accuracy: 0.9600 - val_loss: 0.1462 - val_accuracy: 0.9585\n",
            "Epoch 2/2\n",
            "314/314 [==============================] - 23s 74ms/step - loss: 0.1436 - accuracy: 0.9602 - val_loss: 0.1428 - val_accuracy: 0.9602\n"
          ],
          "name": "stdout"
        },
        {
          "output_type": "execute_result",
          "data": {
            "text/plain": [
              "<tensorflow.python.keras.callbacks.History at 0x7f6286287cc0>"
            ]
          },
          "metadata": {
            "tags": []
          },
          "execution_count": 48
        }
      ]
    },
    {
      "cell_type": "markdown",
      "metadata": {
        "id": "WbjVm3j1pwzg"
      },
      "source": [
        "####Train DNN"
      ]
    },
    {
      "cell_type": "code",
      "metadata": {
        "id": "_gx9Tfntpwz1"
      },
      "source": [
        "EmcDNNmodel.fit(data_emc[3],data_emc[5],batch_size=128,epochs=5,validation_data=(data_emc[4],data_emc[6]))"
      ],
      "execution_count": null,
      "outputs": []
    },
    {
      "cell_type": "markdown",
      "metadata": {
        "id": "wyikAjUwqgoA"
      },
      "source": [
        "###Evaluate DNN and CNN\n",
        "\n",
        "\n"
      ]
    },
    {
      "cell_type": "code",
      "metadata": {
        "id": "Q9unJsyzs6V7"
      },
      "source": [
        "# FOR PREMADE MODELS'\n",
        "# EmcDNNmodel = load_model(\"/content/drive/My Drive/Dataset/ecmldnnkeras.h5\")\n",
        "# EmcCnnModel = load_model(\"/content/drive/My Drive/Dataset/ecmlcnnkeras.h5\")\n",
        "EmcCnnModel.save(\"ecml_cnnbalanced.hs\")\n",
        "EmcDNNmodel.save(\"ecml_dnnbalanced.h5\")"
      ],
      "execution_count": null,
      "outputs": []
    },
    {
      "cell_type": "code",
      "metadata": {
        "id": "sBEQu7G9qgou",
        "colab": {
          "base_uri": "https://localhost:8080/",
          "height": 476
        },
        "outputId": "e584f270-ce8e-4045-ff5a-7d690adb8b86"
      },
      "source": [
        "print(\"DNN\")\n",
        "printEvaluation(EmcDNNmodel,data_emc[4],data_emc[6])\n",
        "# EmcDNNmodel.evaluate(data_emc[4],data_emc[6])\n",
        "print(\"***********************************************************************************\")\n",
        "print(\"CNN\")\n",
        "printEvaluation(EmcCnnModel,data_emc[4],data_emc[6])\n",
        "#EmcCnnModel.evaluate(data_emc[4],data_emc[6])"
      ],
      "execution_count": null,
      "outputs": [
        {
          "output_type": "stream",
          "text": [
            "DNN\n",
            "0.921447156486185\n",
            "[[8517  212]\n",
            " [1056 7437]]\n",
            "              precision    recall  f1-score   support\n",
            "\n",
            "           0       0.89      0.98      0.93      8729\n",
            "           1       0.97      0.88      0.92      8493\n",
            "\n",
            "    accuracy                           0.93     17222\n",
            "   macro avg       0.93      0.93      0.93     17222\n",
            "weighted avg       0.93      0.93      0.93     17222\n",
            "\n",
            "***********************************************************************************\n",
            "CNN\n",
            "0.9596280890628823\n",
            "[[8718   11]\n",
            " [ 649 7844]]\n",
            "              precision    recall  f1-score   support\n",
            "\n",
            "           0       0.93      1.00      0.96      8729\n",
            "           1       1.00      0.92      0.96      8493\n",
            "\n",
            "    accuracy                           0.96     17222\n",
            "   macro avg       0.96      0.96      0.96     17222\n",
            "weighted avg       0.96      0.96      0.96     17222\n",
            "\n"
          ],
          "name": "stdout"
        }
      ]
    },
    {
      "cell_type": "markdown",
      "metadata": {
        "id": "lwe0oYT4s4an"
      },
      "source": [
        "####Test on valid"
      ]
    },
    {
      "cell_type": "code",
      "metadata": {
        "id": "IIK1afcts73B",
        "colab": {
          "base_uri": "https://localhost:8080/",
          "height": 496
        },
        "outputId": "ef4fd2d2-146d-4ff3-9482-7bede5487ad0"
      },
      "source": [
        "valid_df = ExtractDataframe('/content/drive/My Drive/Dataset/ValidemclDataset.csv')\n",
        "valid_df = valid_df.loc[:,['Parameters','Label']]\n",
        "valid_data = PreprocessAndSplit(valid_df,\"abcdefghijklmnopqrstuvwxyzABCDEFGHIJKLMNOPQRSTUVWXYZ0123456789-,;.!?:'\\\"/\\\\|_@#$%^&*~`+-=<>()[]{} \")\n",
        "printEvaluation(EmcDNNmodel,valid_data[3],valid_data[4])\n",
        "# EmcDNNmodel.evaluate(valid_data[3],valid_data[4])\n",
        "print(\"***********************************************************************************\")\n",
        "printEvaluation(EmcCnnModel,valid_data[3],valid_data[4])\n",
        "# EmcCnnModel.evaluate(valid_data[3],valid_data[4])"
      ],
      "execution_count": null,
      "outputs": [
        {
          "output_type": "stream",
          "text": [
            "0.0\n",
            "[[28437   525]\n",
            " [    0     0]]\n",
            "              precision    recall  f1-score   support\n",
            "\n",
            "           0       1.00      0.98      0.99     28962\n",
            "           1       0.00      0.00      0.00         0\n",
            "\n",
            "    accuracy                           0.98     28962\n",
            "   macro avg       0.50      0.49      0.50     28962\n",
            "weighted avg       1.00      0.98      0.99     28962\n",
            "\n",
            "***********************************************************************************\n"
          ],
          "name": "stdout"
        },
        {
          "output_type": "stream",
          "text": [
            "/usr/local/lib/python3.6/dist-packages/sklearn/metrics/_classification.py:1272: UndefinedMetricWarning: Recall and F-score are ill-defined and being set to 0.0 in labels with no true samples. Use `zero_division` parameter to control this behavior.\n",
            "  _warn_prf(average, modifier, msg_start, len(result))\n"
          ],
          "name": "stderr"
        },
        {
          "output_type": "stream",
          "text": [
            "0.0\n",
            "[[28944    18]\n",
            " [    0     0]]\n",
            "              precision    recall  f1-score   support\n",
            "\n",
            "           0       1.00      1.00      1.00     28962\n",
            "           1       0.00      0.00      0.00         0\n",
            "\n",
            "    accuracy                           1.00     28962\n",
            "   macro avg       0.50      0.50      0.50     28962\n",
            "weighted avg       1.00      1.00      1.00     28962\n",
            "\n"
          ],
          "name": "stdout"
        }
      ]
    },
    {
      "cell_type": "markdown",
      "metadata": {
        "id": "ffixnoWRr35P"
      },
      "source": [
        "####Test on SSI"
      ]
    },
    {
      "cell_type": "code",
      "metadata": {
        "id": "fOmiMayhspkn",
        "colab": {
          "base_uri": "https://localhost:8080/",
          "height": 530
        },
        "outputId": "29aa1e4f-edcf-46c9-90ec-8a1600b1db38"
      },
      "source": [
        "ssi_df = ExtractDataframe('/content/drive/My Drive/Dataset/SSIemclDataset.csv')\n",
        "ssi_df = ssi_df.loc[:,['Parameters','Label']]\n",
        "ssi_data = PreprocessAndSplit(ssi_df,\"abcdefghijklmnopqrstuvwxyzABCDEFGHIJKLMNOPQRSTUVWXYZ0123456789-,;.!?:'\\\"/\\\\|_@#$%^&*~`+-=<>()[]{} \")\n",
        "print(\"DNN\")\n",
        "printEvaluation(EmcDNNmodel,ssi_data[3],ssi_data[4])\n",
        "# EmcDNNmodel.evaluate(ssi_data[3],ssi_data[4])\n",
        "print(\"***********************************************************************************\")\n",
        "print(\"CNN\")\n",
        "printEvaluation(EmcCnnModel,ssi_data[3],ssi_data[4])\n",
        "# EmcCnnModel.evaluate(ssi_data[3],ssi_data[4])"
      ],
      "execution_count": null,
      "outputs": [
        {
          "output_type": "stream",
          "text": [
            "DNN\n",
            "0.8995157384987894\n",
            "[[   0    0]\n",
            " [ 332 1486]]\n"
          ],
          "name": "stdout"
        },
        {
          "output_type": "stream",
          "text": [
            "/usr/local/lib/python3.6/dist-packages/sklearn/metrics/_classification.py:1272: UndefinedMetricWarning: Recall and F-score are ill-defined and being set to 0.0 in labels with no true samples. Use `zero_division` parameter to control this behavior.\n",
            "  _warn_prf(average, modifier, msg_start, len(result))\n"
          ],
          "name": "stderr"
        },
        {
          "output_type": "stream",
          "text": [
            "              precision    recall  f1-score   support\n",
            "\n",
            "           0       0.00      0.00      0.00         0\n",
            "           1       1.00      0.82      0.90      1818\n",
            "\n",
            "    accuracy                           0.82      1818\n",
            "   macro avg       0.50      0.41      0.45      1818\n",
            "weighted avg       1.00      0.82      0.90      1818\n",
            "\n",
            "***********************************************************************************\n",
            "CNN\n",
            "0.9087635054021609\n",
            "[[   0    0]\n",
            " [ 304 1514]]\n",
            "              precision    recall  f1-score   support\n",
            "\n",
            "           0       0.00      0.00      0.00         0\n",
            "           1       1.00      0.83      0.91      1818\n",
            "\n",
            "    accuracy                           0.83      1818\n",
            "   macro avg       0.50      0.42      0.45      1818\n",
            "weighted avg       1.00      0.83      0.91      1818\n",
            "\n"
          ],
          "name": "stdout"
        }
      ]
    },
    {
      "cell_type": "markdown",
      "metadata": {
        "id": "GzjPYLOfr_fJ"
      },
      "source": [
        "####Test on SQL Injection"
      ]
    },
    {
      "cell_type": "code",
      "metadata": {
        "id": "0h6JpBR3srIG",
        "colab": {
          "base_uri": "https://localhost:8080/",
          "height": 530
        },
        "outputId": "26e71349-2ba2-44ac-8b89-f71eb7b285f5"
      },
      "source": [
        "sql_df = ExtractDataframe('/content/drive/My Drive/Dataset/SqlInjectionemclDataset.csv')\n",
        "sql_df = sql_df.loc[:,['Parameters','Label']]\n",
        "sql_data = PreprocessAndSplit(sql_df,\"abcdefghijklmnopqrstuvwxyzABCDEFGHIJKLMNOPQRSTUVWXYZ0123456789-,;.!?:'\\\"/\\\\|_@#$%^&*~`+-=<>()[]{} \")\n",
        "print(\"DNN\")\n",
        "printEvaluation(EmcDNNmodel,sql_data[3],sql_data[4])\n",
        "# EmcDNNmodel.evaluate(sql_data[3],sql_data[4])\n",
        "print(\"***********************************************************************************\")\n",
        "print(\"CNN\")\n",
        "printEvaluation(EmcCnnModel,sql_data[3],sql_data[4])\n",
        "# EmcCnnModel.evaluate(sql_data[3],sql_data[4])"
      ],
      "execution_count": null,
      "outputs": [
        {
          "output_type": "stream",
          "text": [
            "DNN\n",
            "0.8737322515212982\n",
            "[[   0    0]\n",
            " [ 498 1723]]\n",
            "              precision    recall  f1-score   support\n",
            "\n",
            "           0       0.00      0.00      0.00         0\n",
            "           1       1.00      0.78      0.87      2221\n",
            "\n",
            "    accuracy                           0.78      2221\n",
            "   macro avg       0.50      0.39      0.44      2221\n",
            "weighted avg       1.00      0.78      0.87      2221\n",
            "\n",
            "***********************************************************************************\n",
            "CNN\n"
          ],
          "name": "stdout"
        },
        {
          "output_type": "stream",
          "text": [
            "/usr/local/lib/python3.6/dist-packages/sklearn/metrics/_classification.py:1272: UndefinedMetricWarning: Recall and F-score are ill-defined and being set to 0.0 in labels with no true samples. Use `zero_division` parameter to control this behavior.\n",
            "  _warn_prf(average, modifier, msg_start, len(result))\n"
          ],
          "name": "stderr"
        },
        {
          "output_type": "stream",
          "text": [
            "0.908867600098256\n",
            "[[   0    0]\n",
            " [ 371 1850]]\n",
            "              precision    recall  f1-score   support\n",
            "\n",
            "           0       0.00      0.00      0.00         0\n",
            "           1       1.00      0.83      0.91      2221\n",
            "\n",
            "    accuracy                           0.83      2221\n",
            "   macro avg       0.50      0.42      0.45      2221\n",
            "weighted avg       1.00      0.83      0.91      2221\n",
            "\n"
          ],
          "name": "stdout"
        }
      ]
    },
    {
      "cell_type": "markdown",
      "metadata": {
        "id": "8apB5YBSsFh-"
      },
      "source": [
        "####Test on Xpath injection"
      ]
    },
    {
      "cell_type": "code",
      "metadata": {
        "id": "nFvuNgGesr-k",
        "colab": {
          "base_uri": "https://localhost:8080/",
          "height": 530
        },
        "outputId": "f6ef786b-1ec3-44ef-ac84-6c49394f35d6"
      },
      "source": [
        "xpath_df = ExtractDataframe('/content/drive/My Drive/Dataset/XPathInjectionemclDataset.csv')\n",
        "xpath_df = xpath_df.loc[:,['Parameters','Label']]\n",
        "xpath_data = PreprocessAndSplit(xpath_df,\"abcdefghijklmnopqrstuvwxyzABCDEFGHIJKLMNOPQRSTUVWXYZ0123456789-,;.!?:'\\\"/\\\\|_@#$%^&*~`+-=<>()[]{} \")\n",
        "print(\"DNN\")\n",
        "printEvaluation(EmcDNNmodel,xpath_data[3],xpath_data[4])\n",
        "# EmcDNNmodel.evaluate(xpath_data[3],xpath_data[4])\n",
        "print(\"***********************************************************************************\")\n",
        "print(\"CNN\")\n",
        "printEvaluation(EmcCnnModel,xpath_data[3],xpath_data[4])\n",
        "# EmcCnnModel.evaluate(xpath_data[3],xpath_data[4])"
      ],
      "execution_count": null,
      "outputs": [
        {
          "output_type": "stream",
          "text": [
            "DNN\n",
            "0.9115779189057157\n",
            "[[   0    0]\n",
            " [ 362 1866]]\n",
            "              precision    recall  f1-score   support\n",
            "\n",
            "           0       0.00      0.00      0.00         0\n",
            "           1       1.00      0.84      0.91      2228\n",
            "\n",
            "    accuracy                           0.84      2228\n",
            "   macro avg       0.50      0.42      0.46      2228\n",
            "weighted avg       1.00      0.84      0.91      2228\n",
            "\n",
            "***********************************************************************************\n",
            "CNN\n"
          ],
          "name": "stdout"
        },
        {
          "output_type": "stream",
          "text": [
            "/usr/local/lib/python3.6/dist-packages/sklearn/metrics/_classification.py:1272: UndefinedMetricWarning: Recall and F-score are ill-defined and being set to 0.0 in labels with no true samples. Use `zero_division` parameter to control this behavior.\n",
            "  _warn_prf(average, modifier, msg_start, len(result))\n"
          ],
          "name": "stderr"
        },
        {
          "output_type": "stream",
          "text": [
            "0.9115779189057157\n",
            "[[   0    0]\n",
            " [ 362 1866]]\n",
            "              precision    recall  f1-score   support\n",
            "\n",
            "           0       0.00      0.00      0.00         0\n",
            "           1       1.00      0.84      0.91      2228\n",
            "\n",
            "    accuracy                           0.84      2228\n",
            "   macro avg       0.50      0.42      0.46      2228\n",
            "weighted avg       1.00      0.84      0.91      2228\n",
            "\n"
          ],
          "name": "stdout"
        }
      ]
    },
    {
      "cell_type": "markdown",
      "metadata": {
        "id": "COvG4-v7sP9x"
      },
      "source": [
        "####Test on Path traversal"
      ]
    },
    {
      "cell_type": "code",
      "metadata": {
        "id": "1ndD7Quvst0d",
        "colab": {
          "base_uri": "https://localhost:8080/",
          "height": 530
        },
        "outputId": "1f747a10-56f3-4b83-d83c-f50ba9f7b02b"
      },
      "source": [
        "path_df = ExtractDataframe('/content/drive/My Drive/Dataset/PathTransversalemclDataset.csv')\n",
        "path_df = path_df.loc[:,['Parameters','Label']]\n",
        "path_data = PreprocessAndSplit(path_df,\"abcdefghijklmnopqrstuvwxyzABCDEFGHIJKLMNOPQRSTUVWXYZ0123456789-,;.!?:'\\\"/\\\\|_@#$%^&*~`+-=<>()[]{} \")\n",
        "print(\"DNN\")\n",
        "printEvaluation(EmcDNNmodel,path_data[3],path_data[4])\n",
        "# EmcDNNmodel.evaluate(path_data[3],path_data[4])\n",
        "print(\"***********************************************************************************\")\n",
        "print(\"CNN\")\n",
        "printEvaluation(EmcCnnModel,path_data[3],path_data[4])\n",
        "# EmcCnnModel.evaluate(path_data[3],path_data[4])"
      ],
      "execution_count": null,
      "outputs": [
        {
          "output_type": "stream",
          "text": [
            "DNN\n",
            "0.7644859813084113\n",
            "[[   0    0]\n",
            " [ 756 1227]]\n",
            "              precision    recall  f1-score   support\n",
            "\n",
            "           0       0.00      0.00      0.00         0\n",
            "           1       1.00      0.62      0.76      1983\n",
            "\n",
            "    accuracy                           0.62      1983\n",
            "   macro avg       0.50      0.31      0.38      1983\n",
            "weighted avg       1.00      0.62      0.76      1983\n",
            "\n",
            "***********************************************************************************\n",
            "CNN\n"
          ],
          "name": "stdout"
        },
        {
          "output_type": "stream",
          "text": [
            "/usr/local/lib/python3.6/dist-packages/sklearn/metrics/_classification.py:1272: UndefinedMetricWarning: Recall and F-score are ill-defined and being set to 0.0 in labels with no true samples. Use `zero_division` parameter to control this behavior.\n",
            "  _warn_prf(average, modifier, msg_start, len(result))\n"
          ],
          "name": "stderr"
        },
        {
          "output_type": "stream",
          "text": [
            "0.9131268840778295\n",
            "[[   0    0]\n",
            " [ 317 1666]]\n",
            "              precision    recall  f1-score   support\n",
            "\n",
            "           0       0.00      0.00      0.00         0\n",
            "           1       1.00      0.84      0.91      1983\n",
            "\n",
            "    accuracy                           0.84      1983\n",
            "   macro avg       0.50      0.42      0.46      1983\n",
            "weighted avg       1.00      0.84      0.91      1983\n",
            "\n"
          ],
          "name": "stdout"
        }
      ]
    },
    {
      "cell_type": "markdown",
      "metadata": {
        "id": "uh_rPBsdsWqj"
      },
      "source": [
        "####Test on OS commanding"
      ]
    },
    {
      "cell_type": "code",
      "metadata": {
        "id": "dIiJlCw6su6T",
        "colab": {
          "base_uri": "https://localhost:8080/",
          "height": 530
        },
        "outputId": "eecbd476-6fd4-44dd-d2a8-1bfb6d6972e3"
      },
      "source": [
        "oscom_df = ExtractDataframe('/content/drive/My Drive/Dataset/OsCommandingemclDataset.csv')\n",
        "oscom_df = oscom_df.loc[:,['Parameters','Label']]\n",
        "oscom_data = PreprocessAndSplit(oscom_df,\"abcdefghijklmnopqrstuvwxyzABCDEFGHIJKLMNOPQRSTUVWXYZ0123456789-,;.!?:'\\\"/\\\\|_@#$%^&*~`+-=<>()[]{} \")\n",
        "print(\"DNN\")\n",
        "printEvaluation(EmcDNNmodel,oscom_data[3],oscom_data[4])\n",
        "# EmcDNNmodel.evaluate(oscom_data[3],oscom_data[4])\n",
        "print(\"***********************************************************************************\")\n",
        "print(\"CNN\")\n",
        "printEvaluation(EmcCnnModel,oscom_data[3],oscom_data[4])\n",
        "# EmcCnnModel.evaluate(oscom_data[3],oscom_data[4])"
      ],
      "execution_count": null,
      "outputs": [
        {
          "output_type": "stream",
          "text": [
            "DNN\n",
            "0.9238275955543508\n",
            "[[   0    0]\n",
            " [ 281 1704]]\n",
            "              precision    recall  f1-score   support\n",
            "\n",
            "           0       0.00      0.00      0.00         0\n",
            "           1       1.00      0.86      0.92      1985\n",
            "\n",
            "    accuracy                           0.86      1985\n",
            "   macro avg       0.50      0.43      0.46      1985\n",
            "weighted avg       1.00      0.86      0.92      1985\n",
            "\n",
            "***********************************************************************************\n",
            "CNN\n"
          ],
          "name": "stdout"
        },
        {
          "output_type": "stream",
          "text": [
            "/usr/local/lib/python3.6/dist-packages/sklearn/metrics/_classification.py:1272: UndefinedMetricWarning: Recall and F-score are ill-defined and being set to 0.0 in labels with no true samples. Use `zero_division` parameter to control this behavior.\n",
            "  _warn_prf(average, modifier, msg_start, len(result))\n"
          ],
          "name": "stderr"
        },
        {
          "output_type": "stream",
          "text": [
            "0.9438680500133014\n",
            "[[   0    0]\n",
            " [ 211 1774]]\n",
            "              precision    recall  f1-score   support\n",
            "\n",
            "           0       0.00      0.00      0.00         0\n",
            "           1       1.00      0.89      0.94      1985\n",
            "\n",
            "    accuracy                           0.89      1985\n",
            "   macro avg       0.50      0.45      0.47      1985\n",
            "weighted avg       1.00      0.89      0.94      1985\n",
            "\n"
          ],
          "name": "stdout"
        }
      ]
    },
    {
      "cell_type": "markdown",
      "metadata": {
        "id": "xXGUCLKisder"
      },
      "source": [
        "####Test on LDAP injection"
      ]
    },
    {
      "cell_type": "code",
      "metadata": {
        "id": "zzeJEaiNswFd",
        "colab": {
          "base_uri": "https://localhost:8080/",
          "height": 530
        },
        "outputId": "1c859240-7564-461c-edf7-7a3cfd9d1e9a"
      },
      "source": [
        "ldap_df = ExtractDataframe('/content/drive/My Drive/Dataset/LdapInjectionemclDataset.csv')\n",
        "ldap_df = ldap_df.loc[:,['Parameters','Label']]\n",
        "ldap_data = PreprocessAndSplit(ldap_df,\"abcdefghijklmnopqrstuvwxyzABCDEFGHIJKLMNOPQRSTUVWXYZ0123456789-,;.!?:'\\\"/\\\\|_@#$%^&*~`+-=<>()[]{} \")\n",
        "print(\"DNN\")\n",
        "printEvaluation(EmcDNNmodel,ldap_data[3],ldap_data[4])\n",
        "# EmcDNNmodel.evaluate(ldap_data[3],ldap_data[4])\n",
        "print(\"***********************************************************************************\")\n",
        "print(\"CNN\")\n",
        "printEvaluation(EmcCnnModel,ldap_data[3],ldap_data[4])\n",
        "# EmcCnnModel.evaluate(ldap_data[3],ldap_data[4])"
      ],
      "execution_count": null,
      "outputs": [
        {
          "output_type": "stream",
          "text": [
            "DNN\n",
            "0.8609339117121715\n",
            "[[   0    0]\n",
            " [ 545 1687]]\n",
            "              precision    recall  f1-score   support\n",
            "\n",
            "           0       0.00      0.00      0.00         0\n",
            "           1       1.00      0.76      0.86      2232\n",
            "\n",
            "    accuracy                           0.76      2232\n",
            "   macro avg       0.50      0.38      0.43      2232\n",
            "weighted avg       1.00      0.76      0.86      2232\n",
            "\n",
            "***********************************************************************************\n",
            "CNN\n"
          ],
          "name": "stdout"
        },
        {
          "output_type": "stream",
          "text": [
            "/usr/local/lib/python3.6/dist-packages/sklearn/metrics/_classification.py:1272: UndefinedMetricWarning: Recall and F-score are ill-defined and being set to 0.0 in labels with no true samples. Use `zero_division` parameter to control this behavior.\n",
            "  _warn_prf(average, modifier, msg_start, len(result))\n"
          ],
          "name": "stderr"
        },
        {
          "output_type": "stream",
          "text": [
            "0.911219512195122\n",
            "[[   0    0]\n",
            " [ 364 1868]]\n",
            "              precision    recall  f1-score   support\n",
            "\n",
            "           0       0.00      0.00      0.00         0\n",
            "           1       1.00      0.84      0.91      2232\n",
            "\n",
            "    accuracy                           0.84      2232\n",
            "   macro avg       0.50      0.42      0.46      2232\n",
            "weighted avg       1.00      0.84      0.91      2232\n",
            "\n"
          ],
          "name": "stdout"
        }
      ]
    },
    {
      "cell_type": "markdown",
      "metadata": {
        "id": "L7DyqUuzskJF"
      },
      "source": [
        "####Test on XSS"
      ]
    },
    {
      "cell_type": "code",
      "metadata": {
        "id": "AXWcki2lsx-e",
        "colab": {
          "base_uri": "https://localhost:8080/",
          "height": 530
        },
        "outputId": "7ef98dbe-f0cf-44bc-b1a9-0d1600e7dd33"
      },
      "source": [
        "xss_df = ExtractDataframe('/content/drive/My Drive/Dataset/XSSemclDataset.csv')\n",
        "xss_df = xss_df.loc[:,['Parameters','Label']]\n",
        "xss_data = PreprocessAndSplit(xss_df,\"abcdefghijklmnopqrstuvwxyzABCDEFGHIJKLMNOPQRSTUVWXYZ0123456789-,;.!?:'\\\"/\\\\|_@#$%^&*~`+-=<>()[]{} \")\n",
        "print(\"DNN\")\n",
        "printEvaluation(EmcDNNmodel,xss_data[3],xss_data[4])\n",
        "# EmcDNNmodel.evaluate(xss_data[3],xss_data[4])\n",
        "print(\"***********************************************************************************\")\n",
        "print(\"CNN\")\n",
        "printEvaluation(EmcCnnModel,xss_data[3],xss_data[4])\n",
        "# EmcCnnModel.evaluate(xss_data[3],xss_data[4])"
      ],
      "execution_count": null,
      "outputs": [
        {
          "output_type": "stream",
          "text": [
            "DNN\n",
            "0.909796314258002\n",
            "[[   0    0]\n",
            " [ 279 1407]]\n",
            "              precision    recall  f1-score   support\n",
            "\n",
            "           0       0.00      0.00      0.00         0\n",
            "           1       1.00      0.83      0.91      1686\n",
            "\n",
            "    accuracy                           0.83      1686\n",
            "   macro avg       0.50      0.42      0.45      1686\n",
            "weighted avg       1.00      0.83      0.91      1686\n",
            "\n",
            "***********************************************************************************\n",
            "CNN\n"
          ],
          "name": "stdout"
        },
        {
          "output_type": "stream",
          "text": [
            "/usr/local/lib/python3.6/dist-packages/sklearn/metrics/_classification.py:1272: UndefinedMetricWarning: Recall and F-score are ill-defined and being set to 0.0 in labels with no true samples. Use `zero_division` parameter to control this behavior.\n",
            "  _warn_prf(average, modifier, msg_start, len(result))\n"
          ],
          "name": "stderr"
        },
        {
          "output_type": "stream",
          "text": [
            "0.9108527131782946\n",
            "[[   0    0]\n",
            " [ 276 1410]]\n",
            "              precision    recall  f1-score   support\n",
            "\n",
            "           0       0.00      0.00      0.00         0\n",
            "           1       1.00      0.84      0.91      1686\n",
            "\n",
            "    accuracy                           0.84      1686\n",
            "   macro avg       0.50      0.42      0.46      1686\n",
            "weighted avg       1.00      0.84      0.91      1686\n",
            "\n"
          ],
          "name": "stdout"
        }
      ]
    },
    {
      "cell_type": "markdown",
      "metadata": {
        "id": "RqamIxPQqgqE"
      },
      "source": [
        "####Test on CSIC benign"
      ]
    },
    {
      "cell_type": "code",
      "metadata": {
        "id": "ergqjc1CqgqU",
        "colab": {
          "base_uri": "https://localhost:8080/",
          "height": 513
        },
        "outputId": "5ee47e1b-be55-45cd-c7b8-e3319868486d"
      },
      "source": [
        "bencsic_df = ExtractDataframe('/content/drive/My Drive/Dataset/CSIC_dataset_test_benign.csv')\n",
        "bencsic_df = bencsic_df.loc[:,['Parameters','Label']]\n",
        "data_csicx1 = PreprocessAndSplit(bencsic_df,\"abcdefghijklmnopqrstuvwxyzABCDEFGHIJKLMNOPQRSTUVWXYZ0123456789-,;.!?:'\\\"/\\\\|_@#$%^&*~`+-=<>()[]{} \")\n",
        "print(\"DNN\")\n",
        "printEvaluation(EmcDNNmodel,data_csicx1[3],data_csicx1[4])\n",
        "# EmcDNNmodel.evaluate(data_csicx1[3],data_csicx1[4])\n",
        "print(\"CNN\")\n",
        "printEvaluation(EmcCnnModel,data_csicx1[3],data_csicx1[4])\n",
        "# EmcCnnModel.evaluate(data_csicx1[3],data_csicx1[4])"
      ],
      "execution_count": null,
      "outputs": [
        {
          "output_type": "stream",
          "text": [
            "DNN\n",
            "0.0\n",
            "[[  156 15844]\n",
            " [    0     0]]\n",
            "              precision    recall  f1-score   support\n",
            "\n",
            "           0       1.00      0.01      0.02     16000\n",
            "           1       0.00      0.00      0.00         0\n",
            "\n",
            "    accuracy                           0.01     16000\n",
            "   macro avg       0.50      0.00      0.01     16000\n",
            "weighted avg       1.00      0.01      0.02     16000\n",
            "\n",
            "CNN\n"
          ],
          "name": "stdout"
        },
        {
          "output_type": "stream",
          "text": [
            "/usr/local/lib/python3.6/dist-packages/sklearn/metrics/_classification.py:1272: UndefinedMetricWarning: Recall and F-score are ill-defined and being set to 0.0 in labels with no true samples. Use `zero_division` parameter to control this behavior.\n",
            "  _warn_prf(average, modifier, msg_start, len(result))\n"
          ],
          "name": "stderr"
        },
        {
          "output_type": "stream",
          "text": [
            "0.0\n",
            "[[11664  4336]\n",
            " [    0     0]]\n",
            "              precision    recall  f1-score   support\n",
            "\n",
            "           0       1.00      0.73      0.84     16000\n",
            "           1       0.00      0.00      0.00         0\n",
            "\n",
            "    accuracy                           0.73     16000\n",
            "   macro avg       0.50      0.36      0.42     16000\n",
            "weighted avg       1.00      0.73      0.84     16000\n",
            "\n"
          ],
          "name": "stdout"
        }
      ]
    },
    {
      "cell_type": "markdown",
      "metadata": {
        "id": "IWmiV6_cqgrC"
      },
      "source": [
        "####Test on CSIC malicious"
      ]
    },
    {
      "cell_type": "code",
      "metadata": {
        "id": "jny25H1sqgrR",
        "colab": {
          "base_uri": "https://localhost:8080/",
          "height": 513
        },
        "outputId": "64f01808-abab-423b-efa4-7af325cc742c"
      },
      "source": [
        "malcsic_df = ExtractDataframe('/content/drive/My Drive/Dataset/CSIC_dataset_test_malicious.csv')\n",
        "malcsic_df = malcsic_df.loc[:,['Parameters','Label']]\n",
        "data_csict=PreprocessAndSplit(malcsic_df,\"abcdefghijklmnopqrstuvwxyzABCDEFGHIJKLMNOPQRSTUVWXYZ0123456789-,;.!?:'\\\"/\\\\|_@#$%^&*~`+-=<>()[]{} \")\n",
        "print(\"DNN\")\n",
        "printEvaluation(EmcDNNmodel,data_csict[3],data_csict[4])\n",
        "# EmcDNNmodel.evaluate(data_csict[3],data_csict[4])\n",
        "print(\"CNN\")\n",
        "printEvaluation(EmcCnnModel,data_csict[3],data_csict[4])\n",
        "# EmcCnnModel.evaluate(data_csict[3],data_csict[4])"
      ],
      "execution_count": null,
      "outputs": [
        {
          "output_type": "stream",
          "text": [
            "DNN\n",
            "0.9649359228431762\n",
            "[[    0     0]\n",
            " [ 1327 18259]]\n",
            "              precision    recall  f1-score   support\n",
            "\n",
            "           0       0.00      0.00      0.00         0\n",
            "           1       1.00      0.93      0.96     19586\n",
            "\n",
            "    accuracy                           0.93     19586\n",
            "   macro avg       0.50      0.47      0.48     19586\n",
            "weighted avg       1.00      0.93      0.96     19586\n",
            "\n",
            "CNN\n"
          ],
          "name": "stdout"
        },
        {
          "output_type": "stream",
          "text": [
            "/usr/local/lib/python3.6/dist-packages/sklearn/metrics/_classification.py:1272: UndefinedMetricWarning: Recall and F-score are ill-defined and being set to 0.0 in labels with no true samples. Use `zero_division` parameter to control this behavior.\n",
            "  _warn_prf(average, modifier, msg_start, len(result))\n"
          ],
          "name": "stderr"
        },
        {
          "output_type": "stream",
          "text": [
            "0.6124964579200907\n",
            "[[    0     0]\n",
            " [10940  8646]]\n",
            "              precision    recall  f1-score   support\n",
            "\n",
            "           0       0.00      0.00      0.00         0\n",
            "           1       1.00      0.44      0.61     19586\n",
            "\n",
            "    accuracy                           0.44     19586\n",
            "   macro avg       0.50      0.22      0.31     19586\n",
            "weighted avg       1.00      0.44      0.61     19586\n",
            "\n"
          ],
          "name": "stdout"
        }
      ]
    },
    {
      "cell_type": "code",
      "metadata": {
        "id": "nJkA-XPBKwnR"
      },
      "source": [
        "# BALANCE THE DATASET\n",
        "# payload_all = ExtractDataframe(\"/content/drive/My Drive/Dataset/all/PayloadsAllTheThings_github.csv\")\n",
        "# # payload_all = payload_all.drop(['index','Type'],axis=1)\n",
        "# # payload_all.columns = ['Parameters','label']\n",
        "# # payload_all.insert(1,'Label',1)\n",
        "# # payload_all = payload_all.drop(['label'],axis=1)\n",
        "# # data_emc1=PreprocessAndSplit(payload_all,\"abcdefghijklmnopqrstuvwxyzABCDEFGHIJKLMNOPQRSTUVWXYZ0123456789-,;.!?:'\\\"/\\\\|_@#$%^&*~`+-=<>()[]{} \")\n",
        "# print(\"DNN\")\n",
        "# printEvaluation(EmcDNNmodel,data_emc1[3],data_emc1[4])\n",
        "# # EmcDNNmodel.evaluate(data_csict[3],data_csict[4])\n",
        "# print(\"CNN\")\n",
        "# printEvaluation(EmcCnnModel,data_emc1[3],data_emc1[4])\n",
        "# # EmcCnnModel.evaluate(data_csict[3],data_csict[4])\n",
        "# len(payload_all.Type.unique())"
      ],
      "execution_count": null,
      "outputs": []
    },
    {
      "cell_type": "markdown",
      "metadata": {
        "id": "6WxYal_iEYt_"
      },
      "source": [
        "####Test on mixed csic"
      ]
    },
    {
      "cell_type": "code",
      "metadata": {
        "id": "3T91VF6XE_cK"
      },
      "source": [
        "#train_df = ExtractDataframe('/content/drive/My Drive/Dataset/dataset.csv')\n",
        "#train_df = train_df.loc[:,['Parameters','Label']]\n",
        "test1c = ExtractDataframe('/content/drive/My Drive/Dataset/CSIC_dataset_train.csv')\n",
        "test2c = ExtractDataframe('/content/drive/My Drive/Dataset/CSIC_dataset_test_malicious.csv')\n",
        "test_dfc = test1c.append(test2c)\n",
        "test_dfc = test_dfc.loc[:,['Parameters','Label']]\n",
        "test_dfc = test_dfc.sample(frac=1).reset_index(drop=True)"
      ],
      "execution_count": null,
      "outputs": []
    },
    {
      "cell_type": "code",
      "metadata": {
        "id": "ev7cKwMjGPWm"
      },
      "source": [
        "data_mixc=PreprocessAndSplit(test_dfc,\"abcdefghijklmnopqrstuvwxyzABCDEFGHIJKLMNOPQRSTUVWXYZ0123456789-,;.!?:'\\\"/\\\\|_@#$%^&*~`+-=<>()[]{} \")"
      ],
      "execution_count": null,
      "outputs": []
    },
    {
      "cell_type": "code",
      "metadata": {
        "id": "wt8Qbwc-HMGE",
        "colab": {
          "base_uri": "https://localhost:8080/",
          "height": 459
        },
        "outputId": "6d69ee89-b928-4a00-80ef-1c210ead68da"
      },
      "source": [
        "# CNN = load_model('/content/drive/My Drive/Dataset/ecmlcnnkeras.h5')\n",
        "# DNN = load_model('/content/drive/My Drive/Dataset/ecmldnnkeras.h5')\n",
        "\n",
        "print(\"CNN\")\n",
        "printEvaluation(EmcCnnModel,data_mixc[3],data_mixc[4])\n",
        "print(\"DNN\")\n",
        "printEvaluation(EmcDNNmodel,data_mixc[3],data_mixc[4])"
      ],
      "execution_count": null,
      "outputs": [
        {
          "output_type": "stream",
          "text": [
            "CNN\n",
            "0.5385329619312906\n",
            "[[11976  4024]\n",
            " [10886  8700]]\n",
            "              precision    recall  f1-score   support\n",
            "\n",
            "           0       0.52      0.75      0.62     16000\n",
            "           1       0.68      0.44      0.54     19586\n",
            "\n",
            "    accuracy                           0.58     35586\n",
            "   macro avg       0.60      0.60      0.58     35586\n",
            "weighted avg       0.61      0.58      0.57     35586\n",
            "\n",
            "DNN\n",
            "0.6757253174806945\n",
            "[[ 2060 13940]\n",
            " [ 2479 17107]]\n",
            "              precision    recall  f1-score   support\n",
            "\n",
            "           0       0.45      0.13      0.20     16000\n",
            "           1       0.55      0.87      0.68     19586\n",
            "\n",
            "    accuracy                           0.54     35586\n",
            "   macro avg       0.50      0.50      0.44     35586\n",
            "weighted avg       0.51      0.54      0.46     35586\n",
            "\n"
          ],
          "name": "stdout"
        }
      ]
    },
    {
      "cell_type": "code",
      "metadata": {
        "id": "7dZIXT4OZbyu"
      },
      "source": [
        "# printEvaluation(EmcCnnModel,data_mixc[3],data_mixc[4])"
      ],
      "execution_count": null,
      "outputs": []
    },
    {
      "cell_type": "code",
      "metadata": {
        "id": "WWPukZYqIAUt"
      },
      "source": [
        "# CNN = load_model('/content/drive/My Drive/ecml_cnnbalanced.hs')\n",
        "# DNN = load_model('/content/drive/My Drive/ecml_dnnbalanced.h5')\n",
        "\n",
        "# print(\"CNN\")\n",
        "# printEvaluation(CNN,data_mixc[3],data_mixc[4])\n",
        "# print(\"DNN\")\n",
        "# printEvaluation(DNN,data_mixc[3],data_mixc[4])"
      ],
      "execution_count": null,
      "outputs": []
    },
    {
      "cell_type": "code",
      "metadata": {
        "id": "_cfdibzFZIKk"
      },
      "source": [
        "# cm = ExtractDataframe('/content/drive/My Drive/Dataset/all/command.csv')\n",
        "# ldap = ExtractDataframe('/content/drive/My Drive/Dataset/all/ldap.csv')\n",
        "# sqli = ExtractDataframe('/content/drive/My Drive/Dataset/all/sqli.csv')\n",
        "# xss = ExtractDataframe('/content/drive/My Drive/Dataset/all/xss.csv')"
      ],
      "execution_count": null,
      "outputs": []
    },
    {
      "cell_type": "code",
      "metadata": {
        "id": "IZN2Bl8EZtOl"
      },
      "source": [
        "# xss = xss[xss.Label=='1']\n",
        "# xss.Type.unique()"
      ],
      "execution_count": null,
      "outputs": []
    },
    {
      "cell_type": "code",
      "metadata": {
        "id": "6GCIo0m4OYJS"
      },
      "source": [
        "  # all = xss.append(cm,ignore_index=True)\n",
        "  # all = all.append(ldap,ignore_index=True)\n",
        "  # all= all.append(sqli,ignore_index=True)\n",
        "  "
      ],
      "execution_count": null,
      "outputs": []
    },
    {
      "cell_type": "code",
      "metadata": {
        "id": "eq2Az_4VcKKV"
      },
      "source": [
        "# all = all.sample(frac=1).reset_index(drop=True)\n",
        "# all.to_csv('/content/drive/My Drive/Dataset/all/PayloadsAllTheThings_github.csv',index=False)"
      ],
      "execution_count": null,
      "outputs": []
    }
  ]
}